{
 "cells": [
  {
   "cell_type": "markdown",
   "id": "9a0698bd-7812-493c-bd2b-5ffb18c0cce2",
   "metadata": {
    "tags": []
   },
   "source": [
    "# BasiCO"
   ]
  },
  {
   "cell_type": "markdown",
   "id": "27ce6ff2-9d7e-4b4a-9ce8-0ac5d3e80695",
   "metadata": {},
   "source": [
    "The software [BasiCO](https://basico.readthedocs.io/) provides a series of Python utilities for the simulation and analysis of biochemical networks. One of the advantages it offers over a completely custom approach, like the one we implemented with Numpy and Scipy, is the possibility reuse and share models. Here we will demonstrate how to use BasiCO to load some ready-made SMBL documents.\n",
    "\n",
    "Since BasiCO is a Python library, we can rely on the `pip` package manager to automate its installation."
   ]
  },
  {
   "cell_type": "code",
   "execution_count": null,
   "id": "7eb87c9b-977a-4bc4-bb69-92fa07a050d9",
   "metadata": {
    "tags": []
   },
   "outputs": [],
   "source": [
    "!pip install copasi-basico"
   ]
  },
  {
   "cell_type": "markdown",
   "id": "36ae55cc-117e-4aff-bc2b-26c4432868ae",
   "metadata": {},
   "source": [
    "The following command will give us access to BasiCO within the current notebook."
   ]
  },
  {
   "cell_type": "code",
   "execution_count": 2,
   "id": "49102b34-d0e8-4d68-9b16-dce020257574",
   "metadata": {
    "tags": []
   },
   "outputs": [],
   "source": [
    "from basico import *"
   ]
  },
  {
   "cell_type": "markdown",
   "id": "8e4d2f0f-02f6-4a42-8272-1becb257e4b6",
   "metadata": {},
   "source": [
    "## Brussellator"
   ]
  },
  {
   "cell_type": "markdown",
   "id": "2db04edc-ed5a-4db4-8b30-01a9582f45e8",
   "metadata": {},
   "source": [
    "An SBML document describing the Brusselator has been published by the [BioPSy project](https://github.com/dreal/biology). You will find it at the following URL:\n",
    "\n",
    "<https://github.com/dreal/biology/blob/master/models/CMSB2015/Brusselator/Brusselator.xml>\n",
    "\n",
    "Use `curl` to download a local copy of the SBML file."
   ]
  },
  {
   "cell_type": "code",
   "execution_count": 3,
   "id": "87eb481c-84a6-446f-a42b-aad09c6e55b9",
   "metadata": {
    "tags": []
   },
   "outputs": [
    {
     "name": "stdout",
     "output_type": "stream",
     "text": [
      "  % Total    % Received % Xferd  Average Speed   Time    Time     Time  Current\n",
      "                                 Dload  Upload   Total   Spent    Left  Speed\n",
      "100  6288  100  6288    0     0  15688      0 --:--:-- --:--:-- --:--:-- 15759\n"
     ]
    }
   ],
   "source": [
    "!curl -O 'https://raw.githubusercontent.com/dreal/biology/master/models/CMSB2015/Brusselator/Brusselator.xml'"
   ]
  },
  {
   "cell_type": "markdown",
   "id": "bf3cd923-419a-4862-80ff-dc93eb443164",
   "metadata": {},
   "source": [
    "It's best to check the first few lines of the file to see if the download was successful."
   ]
  },
  {
   "cell_type": "code",
   "execution_count": 4,
   "id": "56be8558-d96f-40ac-8ff6-a0a38d30ed82",
   "metadata": {
    "tags": []
   },
   "outputs": [
    {
     "name": "stdout",
     "output_type": "stream",
     "text": [
      "<?xml version=\"1.0\" encoding=\"UTF-8\"?>\n",
      "<!-- Created by COPASI version 4.15 (Build 95) on 2015-12-16 15:58 with libSBML version 5.11.1. -->\n",
      "<sbml xmlns=\"http://www.sbml.org/sbml/level2/version4\" level=\"2\" version=\"4\">\n",
      "  <model metaid=\"COPASI0\" id=\"The_Brusselator\" name=\"The Brusselator\">\n",
      "    <notes>\n",
      "      <html xmlns=\"http://www.w3.org/1999/xhtml\">\n",
      "        <head>\n",
      "          <title xmlns=\"http://www.w3.org/1999/xhtml\"/>\n",
      "          <meta name=\"qrichtext\" content=\"1\"/>\n",
      "        </head>\n"
     ]
    }
   ],
   "source": [
    "!head Brusselator.xml"
   ]
  },
  {
   "cell_type": "markdown",
   "id": "2b819a16-9f0f-4b1a-bdcf-d432e82ffcd0",
   "metadata": {},
   "source": [
    "Everything seems in order. Notice in particular the \"sbml\" tag near the top.\n",
    "\n",
    "Let's read the entire document with BasiCO."
   ]
  },
  {
   "cell_type": "code",
   "execution_count": 5,
   "id": "a268fabc-b60a-49f9-95e8-10deb0afca5e",
   "metadata": {
    "tags": []
   },
   "outputs": [
    {
     "data": {
      "text/plain": [
       "<CDataModel \"Root\">"
      ]
     },
     "execution_count": 5,
     "metadata": {},
     "output_type": "execute_result"
    }
   ],
   "source": [
    "model = load_model(\"Brusselator.xml\")\n",
    "model"
   ]
  },
  {
   "cell_type": "markdown",
   "id": "6398c2bf-0f92-480a-8f41-5ba6bb89c733",
   "metadata": {},
   "source": [
    "The default representation of the model certainly lacks details. Luckily, we can get more information with the appropriate accessor functions. For instance, we can ask for all the *species* present in the model."
   ]
  },
  {
   "cell_type": "code",
   "execution_count": 6,
   "id": "baa6a06d-b7e2-4700-8661-66d135d572ed",
   "metadata": {
    "tags": []
   },
   "outputs": [
    {
     "data": {
      "text/html": [
       "<div>\n",
       "<style scoped>\n",
       "    .dataframe tbody tr th:only-of-type {\n",
       "        vertical-align: middle;\n",
       "    }\n",
       "\n",
       "    .dataframe tbody tr th {\n",
       "        vertical-align: top;\n",
       "    }\n",
       "\n",
       "    .dataframe thead th {\n",
       "        text-align: right;\n",
       "    }\n",
       "</style>\n",
       "<table border=\"1\" class=\"dataframe\">\n",
       "  <thead>\n",
       "    <tr style=\"text-align: right;\">\n",
       "      <th></th>\n",
       "      <th>compartment</th>\n",
       "      <th>type</th>\n",
       "      <th>unit</th>\n",
       "      <th>initial_concentration</th>\n",
       "      <th>initial_particle_number</th>\n",
       "      <th>initial_expression</th>\n",
       "      <th>expression</th>\n",
       "      <th>concentration</th>\n",
       "      <th>particle_number</th>\n",
       "      <th>rate</th>\n",
       "      <th>particle_number_rate</th>\n",
       "      <th>key</th>\n",
       "      <th>sbml_id</th>\n",
       "    </tr>\n",
       "    <tr>\n",
       "      <th>name</th>\n",
       "      <th></th>\n",
       "      <th></th>\n",
       "      <th></th>\n",
       "      <th></th>\n",
       "      <th></th>\n",
       "      <th></th>\n",
       "      <th></th>\n",
       "      <th></th>\n",
       "      <th></th>\n",
       "      <th></th>\n",
       "      <th></th>\n",
       "      <th></th>\n",
       "      <th></th>\n",
       "    </tr>\n",
       "  </thead>\n",
       "  <tbody>\n",
       "    <tr>\n",
       "      <th>X</th>\n",
       "      <td>compartment</td>\n",
       "      <td>reactions</td>\n",
       "      <td>mmol/ml</td>\n",
       "      <td>2.999996</td>\n",
       "      <td>1.806640e+21</td>\n",
       "      <td></td>\n",
       "      <td></td>\n",
       "      <td>2.999996</td>\n",
       "      <td>1.806640e+21</td>\n",
       "      <td>7.678130</td>\n",
       "      <td>4.623878e+21</td>\n",
       "      <td>Metabolite_0</td>\n",
       "      <td>X</td>\n",
       "    </tr>\n",
       "    <tr>\n",
       "      <th>Y</th>\n",
       "      <td>compartment</td>\n",
       "      <td>reactions</td>\n",
       "      <td>mmol/ml</td>\n",
       "      <td>2.999996</td>\n",
       "      <td>1.806640e+21</td>\n",
       "      <td></td>\n",
       "      <td></td>\n",
       "      <td>2.999996</td>\n",
       "      <td>1.806640e+21</td>\n",
       "      <td>-10.186806</td>\n",
       "      <td>-6.134638e+21</td>\n",
       "      <td>Metabolite_1</td>\n",
       "      <td>Y</td>\n",
       "    </tr>\n",
       "    <tr>\n",
       "      <th>A</th>\n",
       "      <td>compartment</td>\n",
       "      <td>fixed</td>\n",
       "      <td>mmol/ml</td>\n",
       "      <td>0.500000</td>\n",
       "      <td>3.011070e+20</td>\n",
       "      <td></td>\n",
       "      <td></td>\n",
       "      <td>0.500000</td>\n",
       "      <td>3.011070e+20</td>\n",
       "      <td>0.000000</td>\n",
       "      <td>0.000000e+00</td>\n",
       "      <td>Metabolite_2</td>\n",
       "      <td>A</td>\n",
       "    </tr>\n",
       "    <tr>\n",
       "      <th>B</th>\n",
       "      <td>compartment</td>\n",
       "      <td>fixed</td>\n",
       "      <td>mmol/ml</td>\n",
       "      <td>2.999996</td>\n",
       "      <td>1.806640e+21</td>\n",
       "      <td></td>\n",
       "      <td></td>\n",
       "      <td>2.999996</td>\n",
       "      <td>1.806640e+21</td>\n",
       "      <td>0.000000</td>\n",
       "      <td>0.000000e+00</td>\n",
       "      <td>Metabolite_3</td>\n",
       "      <td>B</td>\n",
       "    </tr>\n",
       "    <tr>\n",
       "      <th>D</th>\n",
       "      <td>compartment</td>\n",
       "      <td>fixed</td>\n",
       "      <td>mmol/ml</td>\n",
       "      <td>0.000000</td>\n",
       "      <td>0.000000e+00</td>\n",
       "      <td></td>\n",
       "      <td></td>\n",
       "      <td>0.000000</td>\n",
       "      <td>0.000000e+00</td>\n",
       "      <td>0.000000</td>\n",
       "      <td>0.000000e+00</td>\n",
       "      <td>Metabolite_4</td>\n",
       "      <td>D</td>\n",
       "    </tr>\n",
       "    <tr>\n",
       "      <th>E</th>\n",
       "      <td>compartment</td>\n",
       "      <td>fixed</td>\n",
       "      <td>mmol/ml</td>\n",
       "      <td>0.000000</td>\n",
       "      <td>0.000000e+00</td>\n",
       "      <td></td>\n",
       "      <td></td>\n",
       "      <td>0.000000</td>\n",
       "      <td>0.000000e+00</td>\n",
       "      <td>0.000000</td>\n",
       "      <td>0.000000e+00</td>\n",
       "      <td>Metabolite_5</td>\n",
       "      <td>E</td>\n",
       "    </tr>\n",
       "  </tbody>\n",
       "</table>\n",
       "</div>"
      ],
      "text/plain": [
       "      compartment       type     unit  initial_concentration  \\\n",
       "name                                                           \n",
       "X     compartment  reactions  mmol/ml               2.999996   \n",
       "Y     compartment  reactions  mmol/ml               2.999996   \n",
       "A     compartment      fixed  mmol/ml               0.500000   \n",
       "B     compartment      fixed  mmol/ml               2.999996   \n",
       "D     compartment      fixed  mmol/ml               0.000000   \n",
       "E     compartment      fixed  mmol/ml               0.000000   \n",
       "\n",
       "      initial_particle_number initial_expression expression  concentration  \\\n",
       "name                                                                         \n",
       "X                1.806640e+21                                     2.999996   \n",
       "Y                1.806640e+21                                     2.999996   \n",
       "A                3.011070e+20                                     0.500000   \n",
       "B                1.806640e+21                                     2.999996   \n",
       "D                0.000000e+00                                     0.000000   \n",
       "E                0.000000e+00                                     0.000000   \n",
       "\n",
       "      particle_number       rate  particle_number_rate           key sbml_id  \n",
       "name                                                                          \n",
       "X        1.806640e+21   7.678130          4.623878e+21  Metabolite_0       X  \n",
       "Y        1.806640e+21 -10.186806         -6.134638e+21  Metabolite_1       Y  \n",
       "A        3.011070e+20   0.000000          0.000000e+00  Metabolite_2       A  \n",
       "B        1.806640e+21   0.000000          0.000000e+00  Metabolite_3       B  \n",
       "D        0.000000e+00   0.000000          0.000000e+00  Metabolite_4       D  \n",
       "E        0.000000e+00   0.000000          0.000000e+00  Metabolite_5       E  "
      ]
     },
     "execution_count": 6,
     "metadata": {},
     "output_type": "execute_result"
    }
   ],
   "source": [
    "get_species()"
   ]
  },
  {
   "cell_type": "markdown",
   "id": "b0593f21-df59-4992-afc4-9af32267a3f1",
   "metadata": {},
   "source": [
    "Now it's the turn of *reactions*."
   ]
  },
  {
   "cell_type": "code",
   "execution_count": 7,
   "id": "cce23b09-d248-42ce-9975-d821f2a63fd6",
   "metadata": {
    "tags": []
   },
   "outputs": [
    {
     "data": {
      "text/html": [
       "<div>\n",
       "<style scoped>\n",
       "    .dataframe tbody tr th:only-of-type {\n",
       "        vertical-align: middle;\n",
       "    }\n",
       "\n",
       "    .dataframe tbody tr th {\n",
       "        vertical-align: top;\n",
       "    }\n",
       "\n",
       "    .dataframe thead th {\n",
       "        text-align: right;\n",
       "    }\n",
       "</style>\n",
       "<table border=\"1\" class=\"dataframe\">\n",
       "  <thead>\n",
       "    <tr style=\"text-align: right;\">\n",
       "      <th></th>\n",
       "      <th>scheme</th>\n",
       "      <th>flux</th>\n",
       "      <th>particle_flux</th>\n",
       "      <th>function</th>\n",
       "      <th>key</th>\n",
       "      <th>sbml_id</th>\n",
       "      <th>mapping</th>\n",
       "    </tr>\n",
       "    <tr>\n",
       "      <th>name</th>\n",
       "      <th></th>\n",
       "      <th></th>\n",
       "      <th></th>\n",
       "      <th></th>\n",
       "      <th></th>\n",
       "      <th></th>\n",
       "      <th></th>\n",
       "    </tr>\n",
       "  </thead>\n",
       "  <tbody>\n",
       "    <tr>\n",
       "      <th>R1</th>\n",
       "      <td>A -&gt; X</td>\n",
       "      <td>0.561490</td>\n",
       "      <td>3.381371e+20</td>\n",
       "      <td>Mass action (irreversible)</td>\n",
       "      <td>Reaction_0</td>\n",
       "      <td>R1</td>\n",
       "      <td>{'k1': 1.12298, 'substrate': 'A'}</td>\n",
       "    </tr>\n",
       "    <tr>\n",
       "      <th>R2</th>\n",
       "      <td>2 * X + Y -&gt; 3 * X</td>\n",
       "      <td>17.094548</td>\n",
       "      <td>1.029458e+22</td>\n",
       "      <td>Mass action (irreversible)</td>\n",
       "      <td>Reaction_1</td>\n",
       "      <td>R2</td>\n",
       "      <td>{'k1': 0.633134, 'substrate': ['X', 'X', 'Y']}</td>\n",
       "    </tr>\n",
       "    <tr>\n",
       "      <th>R3</th>\n",
       "      <td>X + B -&gt; Y + D</td>\n",
       "      <td>6.907742</td>\n",
       "      <td>4.159940e+21</td>\n",
       "      <td>Mass action (irreversible)</td>\n",
       "      <td>Reaction_2</td>\n",
       "      <td>R3</td>\n",
       "      <td>{'k1': 0.767529, 'substrate': ['X', 'B']}</td>\n",
       "    </tr>\n",
       "    <tr>\n",
       "      <th>R4</th>\n",
       "      <td>X -&gt; E</td>\n",
       "      <td>3.070166</td>\n",
       "      <td>1.848897e+21</td>\n",
       "      <td>Mass action (irreversible)</td>\n",
       "      <td>Reaction_3</td>\n",
       "      <td>R4</td>\n",
       "      <td>{'k1': 1.02339, 'substrate': 'X'}</td>\n",
       "    </tr>\n",
       "  </tbody>\n",
       "</table>\n",
       "</div>"
      ],
      "text/plain": [
       "                  scheme       flux  particle_flux  \\\n",
       "name                                                 \n",
       "R1                A -> X   0.561490   3.381371e+20   \n",
       "R2    2 * X + Y -> 3 * X  17.094548   1.029458e+22   \n",
       "R3        X + B -> Y + D   6.907742   4.159940e+21   \n",
       "R4                X -> E   3.070166   1.848897e+21   \n",
       "\n",
       "                        function         key sbml_id  \\\n",
       "name                                                   \n",
       "R1    Mass action (irreversible)  Reaction_0      R1   \n",
       "R2    Mass action (irreversible)  Reaction_1      R2   \n",
       "R3    Mass action (irreversible)  Reaction_2      R3   \n",
       "R4    Mass action (irreversible)  Reaction_3      R4   \n",
       "\n",
       "                                             mapping  \n",
       "name                                                  \n",
       "R1                 {'k1': 1.12298, 'substrate': 'A'}  \n",
       "R2    {'k1': 0.633134, 'substrate': ['X', 'X', 'Y']}  \n",
       "R3         {'k1': 0.767529, 'substrate': ['X', 'B']}  \n",
       "R4                 {'k1': 1.02339, 'substrate': 'X'}  "
      ]
     },
     "execution_count": 7,
     "metadata": {},
     "output_type": "execute_result"
    }
   ],
   "source": [
    "get_reactions()"
   ]
  },
  {
   "cell_type": "markdown",
   "id": "de494bda-6012-4da6-8d86-2f5e4e49cdca",
   "metadata": {},
   "source": [
    "The parameters listed on the right-hand side of the table are different from those we used previously, but the structure of the equations is clearly the same.\n",
    "\n",
    "At this point, obtaining a new simulation for this setup is really easy. BasiCO automates the entire procedure by means of a function called `run_time_course()`."
   ]
  },
  {
   "cell_type": "code",
   "execution_count": 8,
   "id": "cdc29725-51df-4228-9d66-6dd6d4814b01",
   "metadata": {
    "tags": []
   },
   "outputs": [
    {
     "data": {
      "image/png": "[encoded data removed]",
      "text/plain": [
       "<Figure size 640x480 with 1 Axes>"
      ]
     },
     "metadata": {},
     "output_type": "display_data"
    }
   ],
   "source": [
    "result = run_time_course(duration=50)\n",
    "result.plot();"
   ]
  },
  {
   "cell_type": "markdown",
   "id": "65606f4d-f3ff-4a69-800d-9f0f45bfcc3a",
   "metadata": {},
   "source": [
    "The concentrations listed above for $A$ and $B$ cause the system to oscillate periodically. If you remember, other values lead the Brusselator to an equilibrium.\n",
    "\n",
    "We can change the concentrations to experiment with other possibilities. For instance:"
   ]
  },
  {
   "cell_type": "code",
   "execution_count": 9,
   "id": "4b7e38d0-b0bd-480b-a786-1314f55a4be7",
   "metadata": {
    "tags": []
   },
   "outputs": [],
   "source": [
    "set_species(\"A\", initial_concentration=1)\n",
    "set_species(\"B\", initial_concentration=1.5)"
   ]
  },
  {
   "cell_type": "code",
   "execution_count": 10,
   "id": "a024a7a0-9735-4cf4-8c3c-212e93d5ca1b",
   "metadata": {
    "tags": []
   },
   "outputs": [
    {
     "data": {
      "image/png": "[encoded data removed]",
      "text/plain": [
       "<Figure size 640x480 with 1 Axes>"
      ]
     },
     "metadata": {},
     "output_type": "display_data"
    }
   ],
   "source": [
    "result = run_time_course(duration=20)\n",
    "result.plot();"
   ]
  },
  {
   "cell_type": "markdown",
   "id": "0617bbf7-a89e-46bd-9425-e9856b10c440",
   "metadata": {
    "tags": []
   },
   "source": [
    "## More Models"
   ]
  },
  {
   "cell_type": "markdown",
   "id": "16f1b013-3fd5-4714-967b-d4233ff4f6f8",
   "metadata": {
    "tags": []
   },
   "source": [
    "In this section we will investigate an artificial circuit that was originally described in [A synthetic gene–metabolic oscillator](https://www.nature.com/articles/nature03508).\n",
    "\n",
    "*Figure 1* of the paper summarizes nicely the architecture of the system.\n",
    "\n",
    "[![Circuit Architecture](https://media.springernature.com/full/springer-static/image/art%3A10.1038%2Fnature03508/MediaObjects/41586_2005_Article_BFnature03508_Fig1_HTML.jpg?as=webp)](https://www.nature.com/articles/nature03508/figures/1)"
   ]
  },
  {
   "cell_type": "markdown",
   "id": "68714ce0-e18d-4d4c-baa6-baa5ebf3b571",
   "metadata": {},
   "source": [
    "This system uses several reactions, and it would take some time to translate all of them into a computer model. We have an alternative, though.\n",
    "\n",
    "The [BioModels](http://biomodels.net/) website has emerged as a popular repository for all sorts of mathematical models of biological and biomedical systems. Click on the link above and explore the website for a few minutes.\n",
    "\n",
    "**Question**: Can you find a webpage for the model described in the paper? What is its identifier?"
   ]
  },
  {
   "cell_type": "markdown",
   "id": "c4da81ed-04b1-47b1-897b-e27ce50805e9",
   "metadata": {},
   "source": [
    "BasiCO integrates natively with BioModels. It is possible to retrieve a model using its ID only. Try with the following code:"
   ]
  },
  {
   "cell_type": "code",
   "execution_count": 11,
   "id": "6601b042-fcc1-48f4-91a3-0be723a4e290",
   "metadata": {
    "tags": []
   },
   "outputs": [],
   "source": [
    "import basico.biomodels as biomodels"
   ]
  },
  {
   "cell_type": "code",
   "execution_count": 12,
   "id": "a2b8ddbb-b955-42ff-a2b6-083688bcfddd",
   "metadata": {
    "tags": []
   },
   "outputs": [
    {
     "name": "stdout",
     "output_type": "stream",
     "text": [
      "Fung2005_Metabolic_Oscillator\n"
     ]
    }
   ],
   "source": [
    "info = biomodels.get_model_info(67)\n",
    "print(info[\"name\"])"
   ]
  },
  {
   "cell_type": "markdown",
   "id": "8b9109c3-ee3f-4505-a224-945d2461d81d",
   "metadata": {},
   "source": [
    "The variable `info` above is not yet holding the full model. For that, we are going to resort to the function `load_biomodel()`."
   ]
  },
  {
   "cell_type": "code",
   "execution_count": 13,
   "id": "7d36369a-5c4b-484f-bd72-b87a472aab32",
   "metadata": {
    "tags": []
   },
   "outputs": [],
   "source": [
    "model = load_biomodel(67)"
   ]
  },
  {
   "cell_type": "code",
   "execution_count": 14,
   "id": "2927d9f7-3345-4445-be3d-25e3b1c95d2f",
   "metadata": {
    "tags": []
   },
   "outputs": [
    {
     "data": {
      "text/html": [
       "<div>\n",
       "<style scoped>\n",
       "    .dataframe tbody tr th:only-of-type {\n",
       "        vertical-align: middle;\n",
       "    }\n",
       "\n",
       "    .dataframe tbody tr th {\n",
       "        vertical-align: top;\n",
       "    }\n",
       "\n",
       "    .dataframe thead th {\n",
       "        text-align: right;\n",
       "    }\n",
       "</style>\n",
       "<table border=\"1\" class=\"dataframe\">\n",
       "  <thead>\n",
       "    <tr style=\"text-align: right;\">\n",
       "      <th></th>\n",
       "      <th>compartment</th>\n",
       "      <th>type</th>\n",
       "      <th>unit</th>\n",
       "      <th>initial_concentration</th>\n",
       "      <th>initial_particle_number</th>\n",
       "      <th>initial_expression</th>\n",
       "      <th>expression</th>\n",
       "      <th>concentration</th>\n",
       "      <th>particle_number</th>\n",
       "      <th>rate</th>\n",
       "      <th>particle_number_rate</th>\n",
       "      <th>key</th>\n",
       "      <th>sbml_id</th>\n",
       "    </tr>\n",
       "    <tr>\n",
       "      <th>name</th>\n",
       "      <th></th>\n",
       "      <th></th>\n",
       "      <th></th>\n",
       "      <th></th>\n",
       "      <th></th>\n",
       "      <th></th>\n",
       "      <th></th>\n",
       "      <th></th>\n",
       "      <th></th>\n",
       "      <th></th>\n",
       "      <th></th>\n",
       "      <th></th>\n",
       "      <th></th>\n",
       "    </tr>\n",
       "  </thead>\n",
       "  <tbody>\n",
       "    <tr>\n",
       "      <th>Acetyl-CoA</th>\n",
       "      <td>Intracellular</td>\n",
       "      <td>reactions</td>\n",
       "      <td>mol/l</td>\n",
       "      <td>0.0</td>\n",
       "      <td>0.0</td>\n",
       "      <td></td>\n",
       "      <td></td>\n",
       "      <td>0.0</td>\n",
       "      <td>0.0</td>\n",
       "      <td>0.5</td>\n",
       "      <td>3.011070e+23</td>\n",
       "      <td>Metabolite_6</td>\n",
       "      <td>AcCoA</td>\n",
       "    </tr>\n",
       "    <tr>\n",
       "      <th>Acetyl phosphate</th>\n",
       "      <td>Intracellular</td>\n",
       "      <td>reactions</td>\n",
       "      <td>mol/l</td>\n",
       "      <td>0.0</td>\n",
       "      <td>0.0</td>\n",
       "      <td></td>\n",
       "      <td></td>\n",
       "      <td>0.0</td>\n",
       "      <td>0.0</td>\n",
       "      <td>0.0</td>\n",
       "      <td>0.000000e+00</td>\n",
       "      <td>Metabolite_7</td>\n",
       "      <td>AcP</td>\n",
       "    </tr>\n",
       "    <tr>\n",
       "      <th>Acetate</th>\n",
       "      <td>Intracellular</td>\n",
       "      <td>reactions</td>\n",
       "      <td>mol/l</td>\n",
       "      <td>0.0</td>\n",
       "      <td>0.0</td>\n",
       "      <td></td>\n",
       "      <td></td>\n",
       "      <td>0.0</td>\n",
       "      <td>0.0</td>\n",
       "      <td>0.0</td>\n",
       "      <td>0.000000e+00</td>\n",
       "      <td>Metabolite_8</td>\n",
       "      <td>OAc</td>\n",
       "    </tr>\n",
       "    <tr>\n",
       "      <th>protonated acetate</th>\n",
       "      <td>Intracellular</td>\n",
       "      <td>reactions</td>\n",
       "      <td>mol/l</td>\n",
       "      <td>0.0</td>\n",
       "      <td>0.0</td>\n",
       "      <td></td>\n",
       "      <td></td>\n",
       "      <td>0.0</td>\n",
       "      <td>0.0</td>\n",
       "      <td>0.0</td>\n",
       "      <td>0.000000e+00</td>\n",
       "      <td>Metabolite_9</td>\n",
       "      <td>HOAc</td>\n",
       "    </tr>\n",
       "    <tr>\n",
       "      <th>lac repressor</th>\n",
       "      <td>Intracellular</td>\n",
       "      <td>reactions</td>\n",
       "      <td>mol/l</td>\n",
       "      <td>0.0</td>\n",
       "      <td>0.0</td>\n",
       "      <td></td>\n",
       "      <td></td>\n",
       "      <td>0.0</td>\n",
       "      <td>0.0</td>\n",
       "      <td>0.0</td>\n",
       "      <td>0.000000e+00</td>\n",
       "      <td>Metabolite_10</td>\n",
       "      <td>LacI</td>\n",
       "    </tr>\n",
       "    <tr>\n",
       "      <th>Acetyl-CoA synthase</th>\n",
       "      <td>Intracellular</td>\n",
       "      <td>reactions</td>\n",
       "      <td>mol/l</td>\n",
       "      <td>0.0</td>\n",
       "      <td>0.0</td>\n",
       "      <td></td>\n",
       "      <td></td>\n",
       "      <td>0.0</td>\n",
       "      <td>0.0</td>\n",
       "      <td>0.0</td>\n",
       "      <td>0.000000e+00</td>\n",
       "      <td>Metabolite_11</td>\n",
       "      <td>Acs</td>\n",
       "    </tr>\n",
       "    <tr>\n",
       "      <th>Phosphate acetyl transferase</th>\n",
       "      <td>Intracellular</td>\n",
       "      <td>reactions</td>\n",
       "      <td>mol/l</td>\n",
       "      <td>0.0</td>\n",
       "      <td>0.0</td>\n",
       "      <td></td>\n",
       "      <td></td>\n",
       "      <td>0.0</td>\n",
       "      <td>0.0</td>\n",
       "      <td>2.0</td>\n",
       "      <td>1.204428e+24</td>\n",
       "      <td>Metabolite_12</td>\n",
       "      <td>Pta</td>\n",
       "    </tr>\n",
       "    <tr>\n",
       "      <th>acetate export</th>\n",
       "      <td>Intracellular</td>\n",
       "      <td>fixed</td>\n",
       "      <td>mol/l</td>\n",
       "      <td>0.0</td>\n",
       "      <td>0.0</td>\n",
       "      <td></td>\n",
       "      <td></td>\n",
       "      <td>0.0</td>\n",
       "      <td>0.0</td>\n",
       "      <td>0.0</td>\n",
       "      <td>0.000000e+00</td>\n",
       "      <td>Metabolite_13</td>\n",
       "      <td>HOAc_E</td>\n",
       "    </tr>\n",
       "  </tbody>\n",
       "</table>\n",
       "</div>"
      ],
      "text/plain": [
       "                                compartment       type   unit  \\\n",
       "name                                                            \n",
       "Acetyl-CoA                    Intracellular  reactions  mol/l   \n",
       "Acetyl phosphate              Intracellular  reactions  mol/l   \n",
       "Acetate                       Intracellular  reactions  mol/l   \n",
       "protonated acetate            Intracellular  reactions  mol/l   \n",
       "lac repressor                 Intracellular  reactions  mol/l   \n",
       "Acetyl-CoA synthase           Intracellular  reactions  mol/l   \n",
       "Phosphate acetyl transferase  Intracellular  reactions  mol/l   \n",
       "acetate export                Intracellular      fixed  mol/l   \n",
       "\n",
       "                              initial_concentration  initial_particle_number  \\\n",
       "name                                                                           \n",
       "Acetyl-CoA                                      0.0                      0.0   \n",
       "Acetyl phosphate                                0.0                      0.0   \n",
       "Acetate                                         0.0                      0.0   \n",
       "protonated acetate                              0.0                      0.0   \n",
       "lac repressor                                   0.0                      0.0   \n",
       "Acetyl-CoA synthase                             0.0                      0.0   \n",
       "Phosphate acetyl transferase                    0.0                      0.0   \n",
       "acetate export                                  0.0                      0.0   \n",
       "\n",
       "                             initial_expression expression  concentration  \\\n",
       "name                                                                        \n",
       "Acetyl-CoA                                                            0.0   \n",
       "Acetyl phosphate                                                      0.0   \n",
       "Acetate                                                               0.0   \n",
       "protonated acetate                                                    0.0   \n",
       "lac repressor                                                         0.0   \n",
       "Acetyl-CoA synthase                                                   0.0   \n",
       "Phosphate acetyl transferase                                          0.0   \n",
       "acetate export                                                        0.0   \n",
       "\n",
       "                              particle_number  rate  particle_number_rate  \\\n",
       "name                                                                        \n",
       "Acetyl-CoA                                0.0   0.5          3.011070e+23   \n",
       "Acetyl phosphate                          0.0   0.0          0.000000e+00   \n",
       "Acetate                                   0.0   0.0          0.000000e+00   \n",
       "protonated acetate                        0.0   0.0          0.000000e+00   \n",
       "lac repressor                             0.0   0.0          0.000000e+00   \n",
       "Acetyl-CoA synthase                       0.0   0.0          0.000000e+00   \n",
       "Phosphate acetyl transferase              0.0   2.0          1.204428e+24   \n",
       "acetate export                            0.0   0.0          0.000000e+00   \n",
       "\n",
       "                                        key sbml_id  \n",
       "name                                                 \n",
       "Acetyl-CoA                     Metabolite_6   AcCoA  \n",
       "Acetyl phosphate               Metabolite_7     AcP  \n",
       "Acetate                        Metabolite_8     OAc  \n",
       "protonated acetate             Metabolite_9    HOAc  \n",
       "lac repressor                 Metabolite_10    LacI  \n",
       "Acetyl-CoA synthase           Metabolite_11     Acs  \n",
       "Phosphate acetyl transferase  Metabolite_12     Pta  \n",
       "acetate export                Metabolite_13  HOAc_E  "
      ]
     },
     "execution_count": 14,
     "metadata": {},
     "output_type": "execute_result"
    }
   ],
   "source": [
    "get_species()"
   ]
  },
  {
   "cell_type": "code",
   "execution_count": 15,
   "id": "55e61538-ad3e-4dd2-9676-c0e3db98090d",
   "metadata": {
    "tags": []
   },
   "outputs": [
    {
     "data": {
      "text/html": [
       "<div>\n",
       "<style scoped>\n",
       "    .dataframe tbody tr th:only-of-type {\n",
       "        vertical-align: middle;\n",
       "    }\n",
       "\n",
       "    .dataframe tbody tr th {\n",
       "        vertical-align: top;\n",
       "    }\n",
       "\n",
       "    .dataframe thead th {\n",
       "        text-align: right;\n",
       "    }\n",
       "</style>\n",
       "<table border=\"1\" class=\"dataframe\">\n",
       "  <thead>\n",
       "    <tr style=\"text-align: right;\">\n",
       "      <th></th>\n",
       "      <th>scheme</th>\n",
       "      <th>flux</th>\n",
       "      <th>particle_flux</th>\n",
       "      <th>function</th>\n",
       "      <th>key</th>\n",
       "      <th>sbml_id</th>\n",
       "      <th>mapping</th>\n",
       "    </tr>\n",
       "    <tr>\n",
       "      <th>name</th>\n",
       "      <th></th>\n",
       "      <th></th>\n",
       "      <th></th>\n",
       "      <th></th>\n",
       "      <th></th>\n",
       "      <th></th>\n",
       "      <th></th>\n",
       "    </tr>\n",
       "  </thead>\n",
       "  <tbody>\n",
       "    <tr>\n",
       "      <th>Glycolytic flux</th>\n",
       "      <td>-&gt; Acetyl-CoA</td>\n",
       "      <td>0.5</td>\n",
       "      <td>3.011070e+23</td>\n",
       "      <td>Constant flux (irreversible)</td>\n",
       "      <td>Reaction_4</td>\n",
       "      <td>V_gly</td>\n",
       "      <td>{'v': 'S0'}</td>\n",
       "    </tr>\n",
       "    <tr>\n",
       "      <th>Flux to TCA cycle</th>\n",
       "      <td>Acetyl-CoA -&gt;</td>\n",
       "      <td>0.0</td>\n",
       "      <td>0.000000e+00</td>\n",
       "      <td>Mass action (irreversible)</td>\n",
       "      <td>Reaction_5</td>\n",
       "      <td>V_TCA</td>\n",
       "      <td>{'k1': 'kTCA', 'substrate': 'Acetyl-CoA'}</td>\n",
       "    </tr>\n",
       "    <tr>\n",
       "      <th>Intercellular transport of Acetate</th>\n",
       "      <td>\"protonated acetate\" = \"acetate export\"</td>\n",
       "      <td>0.0</td>\n",
       "      <td>0.000000e+00</td>\n",
       "      <td>Function for Intercellular transport of Acetate</td>\n",
       "      <td>Reaction_6</td>\n",
       "      <td>V_out</td>\n",
       "      <td>{'HOAc': '\"protonated acetate\"', 'HOAc_E': '\"a...</td>\n",
       "    </tr>\n",
       "    <tr>\n",
       "      <th>Phosphate acetyl transferase flux</th>\n",
       "      <td>Acetyl-CoA -&gt; \"Acetyl phosphate\";  \"Phosphate ...</td>\n",
       "      <td>0.0</td>\n",
       "      <td>0.000000e+00</td>\n",
       "      <td>Function for Phosphate acetyl transferase flux</td>\n",
       "      <td>Reaction_7</td>\n",
       "      <td>V_Pta</td>\n",
       "      <td>{'AcCoA': 'Acetyl-CoA', 'KM1': 'KM1', 'Pta': '...</td>\n",
       "    </tr>\n",
       "    <tr>\n",
       "      <th>Acetate kinase</th>\n",
       "      <td>\"Acetyl phosphate\" = Acetate</td>\n",
       "      <td>0.0</td>\n",
       "      <td>0.000000e+00</td>\n",
       "      <td>Mass action (reversible)</td>\n",
       "      <td>Reaction_8</td>\n",
       "      <td>V_Ack</td>\n",
       "      <td>{'k1': 'kAck_f', 'substrate': '\"Acetyl phospha...</td>\n",
       "    </tr>\n",
       "    <tr>\n",
       "      <th>Acetyl-CoA synthase flux</th>\n",
       "      <td>Acetate -&gt; Acetyl-CoA;  \"Acetyl-CoA synthase\"</td>\n",
       "      <td>0.0</td>\n",
       "      <td>0.000000e+00</td>\n",
       "      <td>Function for Acetyl-CoA synthase flux</td>\n",
       "      <td>Reaction_9</td>\n",
       "      <td>V_Acs</td>\n",
       "      <td>{'Acs': '\"Acetyl-CoA synthase\"', 'KM2': 'KM2',...</td>\n",
       "    </tr>\n",
       "    <tr>\n",
       "      <th>Acid-base equilibrium</th>\n",
       "      <td>Acetate = \"protonated acetate\"</td>\n",
       "      <td>0.0</td>\n",
       "      <td>0.000000e+00</td>\n",
       "      <td>Function for Acid-base equilibrium</td>\n",
       "      <td>Reaction_10</td>\n",
       "      <td>V_Ace</td>\n",
       "      <td>{'C': 'C', 'H': 'H', 'HOAc': '\"protonated acet...</td>\n",
       "    </tr>\n",
       "    <tr>\n",
       "      <th>LacI synthesis</th>\n",
       "      <td>-&gt; \"lac repressor\";  \"Acetyl phosphate\"</td>\n",
       "      <td>0.0</td>\n",
       "      <td>0.000000e+00</td>\n",
       "      <td>Function for LacI synthesis</td>\n",
       "      <td>Reaction_11</td>\n",
       "      <td>R_LacI</td>\n",
       "      <td>{'AcP': '\"Acetyl phosphate\"', 'Kg1': 'Kg1', 'a...</td>\n",
       "    </tr>\n",
       "    <tr>\n",
       "      <th>Acetyl-CoA synthase synthesis</th>\n",
       "      <td>-&gt; \"Acetyl-CoA synthase\";  \"Acetyl phosphate\"</td>\n",
       "      <td>0.0</td>\n",
       "      <td>0.000000e+00</td>\n",
       "      <td>Function for Acetyl-CoA synthase synthesis</td>\n",
       "      <td>Reaction_12</td>\n",
       "      <td>R_Acs</td>\n",
       "      <td>{'AcP': '\"Acetyl phosphate\"', 'Kg2': 'Kg2', 'a...</td>\n",
       "    </tr>\n",
       "    <tr>\n",
       "      <th>Phosphate acetyl transferase synthase</th>\n",
       "      <td>-&gt; \"Phosphate acetyl transferase\";  \"lac repr...</td>\n",
       "      <td>2.0</td>\n",
       "      <td>1.204428e+24</td>\n",
       "      <td>Function for Phosphate acetyl transferase synt...</td>\n",
       "      <td>Reaction_13</td>\n",
       "      <td>R_Pta</td>\n",
       "      <td>{'Kg3': 'Kg3', 'LacI': '\"lac repressor\"', 'alp...</td>\n",
       "    </tr>\n",
       "    <tr>\n",
       "      <th>LacI degradation</th>\n",
       "      <td>\"lac repressor\" -&gt;</td>\n",
       "      <td>0.0</td>\n",
       "      <td>0.000000e+00</td>\n",
       "      <td>Mass action (irreversible)</td>\n",
       "      <td>Reaction_14</td>\n",
       "      <td>R_dLacI</td>\n",
       "      <td>{'k1': 'kd', 'substrate': '\"lac repressor\"'}</td>\n",
       "    </tr>\n",
       "    <tr>\n",
       "      <th>Acs degradation</th>\n",
       "      <td>\"Acetyl-CoA synthase\" -&gt;</td>\n",
       "      <td>0.0</td>\n",
       "      <td>0.000000e+00</td>\n",
       "      <td>Mass action (irreversible)</td>\n",
       "      <td>Reaction_15</td>\n",
       "      <td>R_dAcs</td>\n",
       "      <td>{'k1': 'kd', 'substrate': '\"Acetyl-CoA synthas...</td>\n",
       "    </tr>\n",
       "    <tr>\n",
       "      <th>Pta degradation</th>\n",
       "      <td>\"Phosphate acetyl transferase\" -&gt;</td>\n",
       "      <td>0.0</td>\n",
       "      <td>0.000000e+00</td>\n",
       "      <td>Mass action (irreversible)</td>\n",
       "      <td>Reaction_16</td>\n",
       "      <td>R_dPta</td>\n",
       "      <td>{'k1': 'kd', 'substrate': '\"Phosphate acetyl t...</td>\n",
       "    </tr>\n",
       "  </tbody>\n",
       "</table>\n",
       "</div>"
      ],
      "text/plain": [
       "                                                                                  scheme  \\\n",
       "name                                                                                       \n",
       "Glycolytic flux                                                            -> Acetyl-CoA   \n",
       "Flux to TCA cycle                                                         Acetyl-CoA ->    \n",
       "Intercellular transport of Acetate               \"protonated acetate\" = \"acetate export\"   \n",
       "Phosphate acetyl transferase flux      Acetyl-CoA -> \"Acetyl phosphate\";  \"Phosphate ...   \n",
       "Acetate kinase                                              \"Acetyl phosphate\" = Acetate   \n",
       "Acetyl-CoA synthase flux                   Acetate -> Acetyl-CoA;  \"Acetyl-CoA synthase\"   \n",
       "Acid-base equilibrium                                     Acetate = \"protonated acetate\"   \n",
       "LacI synthesis                                   -> \"lac repressor\";  \"Acetyl phosphate\"   \n",
       "Acetyl-CoA synthase synthesis              -> \"Acetyl-CoA synthase\";  \"Acetyl phosphate\"   \n",
       "Phosphate acetyl transferase synthase   -> \"Phosphate acetyl transferase\";  \"lac repr...   \n",
       "LacI degradation                                                     \"lac repressor\" ->    \n",
       "Acs degradation                                                \"Acetyl-CoA synthase\" ->    \n",
       "Pta degradation                                       \"Phosphate acetyl transferase\" ->    \n",
       "\n",
       "                                       flux  particle_flux  \\\n",
       "name                                                         \n",
       "Glycolytic flux                         0.5   3.011070e+23   \n",
       "Flux to TCA cycle                       0.0   0.000000e+00   \n",
       "Intercellular transport of Acetate      0.0   0.000000e+00   \n",
       "Phosphate acetyl transferase flux       0.0   0.000000e+00   \n",
       "Acetate kinase                          0.0   0.000000e+00   \n",
       "Acetyl-CoA synthase flux                0.0   0.000000e+00   \n",
       "Acid-base equilibrium                   0.0   0.000000e+00   \n",
       "LacI synthesis                          0.0   0.000000e+00   \n",
       "Acetyl-CoA synthase synthesis           0.0   0.000000e+00   \n",
       "Phosphate acetyl transferase synthase   2.0   1.204428e+24   \n",
       "LacI degradation                        0.0   0.000000e+00   \n",
       "Acs degradation                         0.0   0.000000e+00   \n",
       "Pta degradation                         0.0   0.000000e+00   \n",
       "\n",
       "                                                                                function  \\\n",
       "name                                                                                       \n",
       "Glycolytic flux                                             Constant flux (irreversible)   \n",
       "Flux to TCA cycle                                             Mass action (irreversible)   \n",
       "Intercellular transport of Acetate       Function for Intercellular transport of Acetate   \n",
       "Phosphate acetyl transferase flux         Function for Phosphate acetyl transferase flux   \n",
       "Acetate kinase                                                  Mass action (reversible)   \n",
       "Acetyl-CoA synthase flux                           Function for Acetyl-CoA synthase flux   \n",
       "Acid-base equilibrium                                 Function for Acid-base equilibrium   \n",
       "LacI synthesis                                               Function for LacI synthesis   \n",
       "Acetyl-CoA synthase synthesis                 Function for Acetyl-CoA synthase synthesis   \n",
       "Phosphate acetyl transferase synthase  Function for Phosphate acetyl transferase synt...   \n",
       "LacI degradation                                              Mass action (irreversible)   \n",
       "Acs degradation                                               Mass action (irreversible)   \n",
       "Pta degradation                                               Mass action (irreversible)   \n",
       "\n",
       "                                               key  sbml_id  \\\n",
       "name                                                          \n",
       "Glycolytic flux                         Reaction_4    V_gly   \n",
       "Flux to TCA cycle                       Reaction_5    V_TCA   \n",
       "Intercellular transport of Acetate      Reaction_6    V_out   \n",
       "Phosphate acetyl transferase flux       Reaction_7    V_Pta   \n",
       "Acetate kinase                          Reaction_8    V_Ack   \n",
       "Acetyl-CoA synthase flux                Reaction_9    V_Acs   \n",
       "Acid-base equilibrium                  Reaction_10    V_Ace   \n",
       "LacI synthesis                         Reaction_11   R_LacI   \n",
       "Acetyl-CoA synthase synthesis          Reaction_12    R_Acs   \n",
       "Phosphate acetyl transferase synthase  Reaction_13    R_Pta   \n",
       "LacI degradation                       Reaction_14  R_dLacI   \n",
       "Acs degradation                        Reaction_15   R_dAcs   \n",
       "Pta degradation                        Reaction_16   R_dPta   \n",
       "\n",
       "                                                                                 mapping  \n",
       "name                                                                                      \n",
       "Glycolytic flux                                                              {'v': 'S0'}  \n",
       "Flux to TCA cycle                              {'k1': 'kTCA', 'substrate': 'Acetyl-CoA'}  \n",
       "Intercellular transport of Acetate     {'HOAc': '\"protonated acetate\"', 'HOAc_E': '\"a...  \n",
       "Phosphate acetyl transferase flux      {'AcCoA': 'Acetyl-CoA', 'KM1': 'KM1', 'Pta': '...  \n",
       "Acetate kinase                         {'k1': 'kAck_f', 'substrate': '\"Acetyl phospha...  \n",
       "Acetyl-CoA synthase flux               {'Acs': '\"Acetyl-CoA synthase\"', 'KM2': 'KM2',...  \n",
       "Acid-base equilibrium                  {'C': 'C', 'H': 'H', 'HOAc': '\"protonated acet...  \n",
       "LacI synthesis                         {'AcP': '\"Acetyl phosphate\"', 'Kg1': 'Kg1', 'a...  \n",
       "Acetyl-CoA synthase synthesis          {'AcP': '\"Acetyl phosphate\"', 'Kg2': 'Kg2', 'a...  \n",
       "Phosphate acetyl transferase synthase  {'Kg3': 'Kg3', 'LacI': '\"lac repressor\"', 'alp...  \n",
       "LacI degradation                            {'k1': 'kd', 'substrate': '\"lac repressor\"'}  \n",
       "Acs degradation                        {'k1': 'kd', 'substrate': '\"Acetyl-CoA synthas...  \n",
       "Pta degradation                        {'k1': 'kd', 'substrate': '\"Phosphate acetyl t...  "
      ]
     },
     "execution_count": 15,
     "metadata": {},
     "output_type": "execute_result"
    }
   ],
   "source": [
    "get_reactions()"
   ]
  },
  {
   "cell_type": "markdown",
   "id": "e30de13b-581d-499c-bb2b-64af68885579",
   "metadata": {},
   "source": [
    "Now go back to the paper and try to compare the output of the simulation with the description that appears there."
   ]
  },
  {
   "cell_type": "code",
   "execution_count": 16,
   "id": "e2c75266-1818-453c-bbd5-d429269eef91",
   "metadata": {
    "tags": []
   },
   "outputs": [
    {
     "data": {
      "image/png": "[encoded data removed]",
      "text/plain": [
       "<Figure size 640x480 with 1 Axes>"
      ]
     },
     "metadata": {},
     "output_type": "display_data"
    }
   ],
   "source": [
    "result = run_time_course(duration=200)\n",
    "result.plot();"
   ]
  }
 ],
 "metadata": {
  "kernelspec": {
   "display_name": "Python 3 (ipykernel)",
   "language": "python",
   "name": "python3"
  },
  "language_info": {
   "codemirror_mode": {
    "name": "ipython",
    "version": 3
   },
   "file_extension": ".py",
   "mimetype": "text/x-python",
   "name": "python",
   "nbconvert_exporter": "python",
   "pygments_lexer": "ipython3",
   "version": "3.11.2"
  }
 },
 "nbformat": 4,
 "nbformat_minor": 5
}
